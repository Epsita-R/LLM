{
  "cells": [
    {
      "cell_type": "markdown",
      "metadata": {
        "id": "view-in-github",
        "colab_type": "text"
      },
      "source": [
        "<a href=\"https://colab.research.google.com/github/Epsita-R/LLM/blob/main/groqllm.ipynb\" target=\"_parent\"><img src=\"https://colab.research.google.com/assets/colab-badge.svg\" alt=\"Open In Colab\"/></a>"
      ]
    },
    {
      "cell_type": "code",
      "execution_count": null,
      "metadata": {
        "id": "9TF4wuKkCHhU"
      },
      "outputs": [],
      "source": [
        "from dotenv import load_dotenv\n",
        "from langchain.prompts import PromptTemplate\n",
        "from langchain_core.output_parsers import StrOutputParser\n",
        "from langchain_groq import ChatGroq\n",
        "import os"
      ]
    },
    {
      "cell_type": "code",
      "execution_count": null,
      "metadata": {
        "id": "hpd8Mj8MCHhY",
        "outputId": "7d916c11-84d5-4d56-eb06-b3cef3c4cea2"
      },
      "outputs": [
        {
          "name": "stdout",
          "output_type": "stream",
          "text": [
            "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\n"
          ]
        }
      ],
      "source": [
        "load_dotenv()\n",
        "\n",
        "# Retrieve the API key from the environment variable\n",
        "api_key = os.getenv('GROQ_API_KEY')\n",
        "\n",
        "# Print the API key to ensure it is loaded correctly (for debugging purposes, remove this in production)\n",
        "print(api_key)"
      ]
    },
    {
      "cell_type": "code",
      "execution_count": null,
      "metadata": {
        "id": "EXTLqJvsCHha",
        "outputId": "da9e9ec4-8573-48f8-e781-abb69e7c1810"
      },
      "outputs": [
        {
          "ename": "NameError",
          "evalue": "name 'GROQ_API_KEY' is not defined",
          "output_type": "error",
          "traceback": [
            "\u001b[0;31m---------------------------------------------------------------------------\u001b[0m",
            "\u001b[0;31mNameError\u001b[0m                                 Traceback (most recent call last)",
            "Cell \u001b[0;32mIn[3], line 1\u001b[0m\n\u001b[0;32m----> 1\u001b[0m model \u001b[38;5;241m=\u001b[39m ChatGroq(api_key \u001b[38;5;241m=\u001b[39m \u001b[43mGROQ_API_KEY\u001b[49m,model_name \u001b[38;5;241m=\u001b[39m \u001b[38;5;124m'\u001b[39m\u001b[38;5;124mgemma-7b-it\u001b[39m\u001b[38;5;124m'\u001b[39m)\n",
            "\u001b[0;31mNameError\u001b[0m: name 'GROQ_API_KEY' is not defined"
          ]
        }
      ],
      "source": [
        "model = ChatGroq(api_key = GROQ_API_KEY,model_name = 'gemma-7b-it')"
      ]
    },
    {
      "cell_type": "code",
      "execution_count": null,
      "metadata": {
        "id": "gKpEYmDaCHhb",
        "outputId": "6621edf6-c3d5-4076-9552-917f9edbaff0"
      },
      "outputs": [
        {
          "data": {
            "text/plain": [
              "'**A tree** is a plant that has a tall, single trunk and branched limbs that support leaves, flowers, or fruit.\\n\\n**Characteristics of a tree:**\\n\\n* **Height:** Trees are typically taller than shrubs, usually exceeding 10 meters in height.\\n* **Trunk:** Trees have a single, main trunk that rises from the ground and branches out at the top.\\n* **Branches:** Branches emerge from the trunk and provide support for leaves, flowers, or fruit.\\n* **Leaves:** Trees have leaves, which are flat structures that photosynthesize.\\n* **Growth habit:** Trees have a lifespan of many years, often centuries.\\n\\n**Types of trees:**\\n\\nThere are countless species of trees, belonging to various taxonomic families. Some common types include:\\n\\n* **Deciduous trees:** Lose their leaves in autumn.\\n* **Evergreen trees:** Keep their leaves throughout the year.\\n* **Fruit trees:** Produce fruit as their reproductive structures.\\n* **Ornamental trees:** Planted for their aesthetic value.\\n* **Hardwood trees:** Have broad leaves and produce durable timber.\\n* **Softwood trees:** Have needles and their timber is softer and more flexible.\\n\\n**Importance of trees:**\\n\\nTrees play a vital role in various aspects of life on Earth, including:\\n\\n* **Environmental benefits:** Providing habitat for wildlife, regulating air quality, and mitigating climate change.\\n* **Economic benefits:** Producing timber, fuel, and other resources.\\n* **Ecological benefits:** Absorbing carbon dioxide, producing oxygen, and filtering water.\\n* **Social benefits:** Providing recreational opportunities, cultural significance, and spiritual inspiration.'"
            ]
          },
          "execution_count": 23,
          "metadata": {},
          "output_type": "execute_result"
        }
      ],
      "source": [
        "parser = StrOutputParser()\n",
        "chain = model | parser\n",
        "chain.invoke('what is tree')"
      ]
    },
    {
      "cell_type": "code",
      "execution_count": null,
      "metadata": {
        "id": "jF9jKWnnCHhc"
      },
      "outputs": [],
      "source": [
        "template = (\n",
        "    \"\"\"\n",
        "    you're question answering expert\n",
        "answer : {answer}\n",
        "\"\"\"\n",
        ")"
      ]
    },
    {
      "cell_type": "code",
      "execution_count": null,
      "metadata": {
        "id": "eyLU5hmqCHhc"
      },
      "outputs": [],
      "source": [
        "prompt = PromptTemplate.from_template(template=template)\n"
      ]
    },
    {
      "cell_type": "code",
      "execution_count": null,
      "metadata": {
        "id": "8otqNd1vCHhd"
      },
      "outputs": [],
      "source": [
        "chain =  prompt | model | parser"
      ]
    },
    {
      "cell_type": "code",
      "execution_count": null,
      "metadata": {
        "id": "MrZtYO0ECHhd"
      },
      "outputs": [],
      "source": [
        "answer = \"\"\"\n",
        "tell me about chirst university in india\n",
        "\"\"\""
      ]
    },
    {
      "cell_type": "code",
      "execution_count": null,
      "metadata": {
        "id": "uS1CqYLpCHhe",
        "outputId": "2a4bbd7d-297a-41fa-eff3-a7cb253bbc53"
      },
      "outputs": [
        {
          "name": "stdout",
          "output_type": "stream",
          "text": [
            "## Christ University, India:\n",
            "\n",
            "**Overview:**\n",
            "\n",
            "* Christ University is a private, non-profit, and autonomous university located in Bangalore, Karnataka, India.\n",
            "* Established in 1996, it is ranked among the top universities in India and recognized for its academic excellence and infrastructure.\n",
            "\n",
            "\n",
            "**Academics:**\n",
            "\n",
            "* Christ University offers undergraduate, postgraduate, and doctoral programs across diverse disciplines like Engineering & Technology, Management, Law, Science & Commerce, Humanities & Social Sciences.\n",
            "* The university is known for its innovative curriculum and focus on research and entrepreneurship.\n",
            "\n",
            "\n",
            "**Infrastructure & Facilities:**\n",
            "\n",
            "* Christ University boasts modern and well-equipped classrooms, laboratories, libraries, and recreational facilities.\n",
            "* The university has a sprawling campus with green spaces, sports fields, and a central library.\n",
            "* Christ University also has a strong alumni network and a placement cell to support students in their career aspirations.\n",
            "\n",
            "\n",
            "**Reputation & Achievements:**\n",
            "\n",
            "* Christ University consistently ranks among the top 10 universities in India according to various rankings.\n",
            "* The university has been awarded several accolades for its academic excellence, infrastructure, and student placements.\n",
            "* Christ University has collaborations with leading international universities for research and student exchange programs.\n",
            "\n",
            "\n",
            "**Notable Features:**\n",
            "\n",
            "* **Christ University Global Business School:** Ranked among the best in India, offering specialized programs in management and entrepreneurship.\n",
            "* **Christ University School of Law:** Known for its strong emphasis on legal research and social justice.\n",
            "* **Christ University Research and Innovation Framework:** Encourages innovation and entrepreneurship among students and faculty.\n",
            "\n",
            "\n",
            "**Admissions:**\n",
            "\n",
            "* Admission to Christ University is competitive and based on merit.\n",
            "* Entrance exams like CLAT, PGCET, and Christ University Entrance Test (CUET) are required for various programs.\n",
            "\n",
            "\n",
            "**Overall:**\n",
            "\n",
            "Christ University is a leading private university in India known for its academic excellence, infrastructure, and focus on research and innovation. It offers a diverse range of programs and attracts students from across India and abroad.\n"
          ]
        }
      ],
      "source": [
        "result = chain.invoke({'answer':answer})\n",
        "print(result)"
      ]
    },
    {
      "cell_type": "code",
      "execution_count": null,
      "metadata": {
        "id": "kZKUSzCFCHhe"
      },
      "outputs": [],
      "source": []
    }
  ],
  "metadata": {
    "kernelspec": {
      "display_name": "Python 3",
      "language": "python",
      "name": "python3"
    },
    "language_info": {
      "codemirror_mode": {
        "name": "ipython",
        "version": 3
      },
      "file_extension": ".py",
      "mimetype": "text/x-python",
      "name": "python",
      "nbconvert_exporter": "python",
      "pygments_lexer": "ipython3",
      "version": "3.11.5"
    },
    "colab": {
      "provenance": [],
      "include_colab_link": true
    }
  },
  "nbformat": 4,
  "nbformat_minor": 0
}